{
 "cells": [
  {
   "cell_type": "code",
   "execution_count": null,
   "id": "8bf4c002-2ff4-41b4-a08c-67e6592de03d",
   "metadata": {},
   "outputs": [],
   "source": [
    "class Solution:\n",
    "    #Function to sort an array of 0s, 1s, and 2s\n",
    "    def sort012(self, arr):\n",
    "        self.arr = arr\n",
    "        \n",
    "        arr0 = self.arr.count(0)\n",
    "        arr1 = self.arr.count(1)\n",
    "        arr2 = self.arr.count(2)\n",
    "        \n",
    "        self.arr[:] = [0] * arr0 + [1] * arr1 + [2] * arr2\n",
    "        \n",
    "    def sorted_result(self):\n",
    "        return self.arr"
   ]
  }
 ],
 "metadata": {
  "kernelspec": {
   "display_name": "Python 3 (ipykernel)",
   "language": "python",
   "name": "python3"
  },
  "language_info": {
   "codemirror_mode": {
    "name": "ipython",
    "version": 3
   },
   "file_extension": ".py",
   "mimetype": "text/x-python",
   "name": "python",
   "nbconvert_exporter": "python",
   "pygments_lexer": "ipython3",
   "version": "3.12.4"
  }
 },
 "nbformat": 4,
 "nbformat_minor": 5
}
